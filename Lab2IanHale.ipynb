{
  "nbformat": 4,
  "nbformat_minor": 0,
  "metadata": {
    "colab": {
      "name": "Lab2IanHale.ipynb",
      "provenance": [],
      "collapsed_sections": []
    },
    "kernelspec": {
      "name": "python3",
      "display_name": "Python 3"
    }
  },
  "cells": [
    {
      "cell_type": "markdown",
      "metadata": {
        "id": "6sOc4Uyr4U-Z",
        "colab_type": "text"
      },
      "source": [
        "## Graph Types"
      ]
    },
    {
      "cell_type": "markdown",
      "metadata": {
        "id": "0zZdVLAd5CYr",
        "colab_type": "text"
      },
      "source": [
        "Creator\n",
        "* Ian Hale\n"
      ]
    },
    {
      "cell_type": "markdown",
      "metadata": {
        "id": "g-r6Clq45Hn4",
        "colab_type": "text"
      },
      "source": [
        "### Deviation\n"
      ]
    },
    {
      "cell_type": "markdown",
      "metadata": {
        "id": "2gorxo6E7A0t",
        "colab_type": "text"
      },
      "source": [
        "![alt text](https://raw.githubusercontent.com/ikh5037/pongo/master/images/Deviation.png)\n"
      ]
    },
    {
      "cell_type": "markdown",
      "metadata": {
        "id": "w6bZ_NEi7E3w",
        "colab_type": "text"
      },
      "source": [
        "#### What is this telling us?"
      ]
    },
    {
      "cell_type": "markdown",
      "metadata": {
        "id": "95L-spaC7QHF",
        "colab_type": "text"
      },
      "source": [
        "This graph tells us the difference between both teams points during overtime games. It shows us how the different teams score during overtime, and also the biggest differences in points for each game. In this graph, it highlights high scoring games during overtime and how big of a difference in scores there was. For example, North Caroline, Duke, Kentucky and Kansas all have very high scoring games in which they outscored their opponents in overtime. I recognize that this graph is very weird to look at considering all the bars on each side are similar to their counterparts, but the fact of the matter is thats not what I am trying to high light in this graph. I am trying to highlight high scoring games in overtime. We all know that the winning points are going to be higher than the losing points."
      ]
    },
    {
      "cell_type": "markdown",
      "metadata": {
        "id": "YgXyXjmz7cDP",
        "colab_type": "text"
      },
      "source": [
        "### Correlation\n"
      ]
    },
    {
      "cell_type": "markdown",
      "metadata": {
        "id": "SGx15rZq7hvt",
        "colab_type": "text"
      },
      "source": [
        "![alt text](https://raw.githubusercontent.com/ikh5037/pongo/master/images/Correlation.png)"
      ]
    },
    {
      "cell_type": "markdown",
      "metadata": {
        "id": "dljjONNi7jmj",
        "colab_type": "text"
      },
      "source": [
        "#### What is this telling us?"
      ]
    },
    {
      "cell_type": "markdown",
      "metadata": {
        "id": "PwZEZrFB7laG",
        "colab_type": "text"
      },
      "source": [
        "This graph shows us the correlation of both winning and losing points and their gaps at time. For example, in 2006, there was a blowout season where the winning points and losing points were nowhere near close enough. I understand that this graph is pretty stupid, because, again, everyone knows that the winning points are going to be higher than the losing points, but I did not know or think of any other data being correlated at all. This graph was hard to make because of that, and it is probably a really bad exapmle of correlation. This data had a lot of non-numerical data values. "
      ]
    },
    {
      "cell_type": "markdown",
      "metadata": {
        "id": "MqUdI-uL7r2s",
        "colab_type": "text"
      },
      "source": [
        "### Ranking\n"
      ]
    },
    {
      "cell_type": "markdown",
      "metadata": {
        "id": "AvlxCOVt7x9F",
        "colab_type": "text"
      },
      "source": [
        "![alt text](https://raw.githubusercontent.com/ikh5037/pongo/master/images/Ranking.png)\n"
      ]
    },
    {
      "cell_type": "markdown",
      "metadata": {
        "id": "lCAYtfza7yTq",
        "colab_type": "text"
      },
      "source": [
        "#### What is this telling us?"
      ]
    },
    {
      "cell_type": "markdown",
      "metadata": {
        "id": "MyuciD277ygU",
        "colab_type": "text"
      },
      "source": [
        "This image ranks total number of points. I recognize that the graph is a little small for this aspect ratio, but if you blow it up you will see that the winner is leagues ahead of everyone else with a lot of points. Im sure that this distribution is skewed simply because of the games that the teacher decided to include in this data set, but it still is a very good indicator of ranking and how many points everyone scored. Points scored isnt a good indicator of ranking within the league, but this is across multiple years so that ranking is not good. "
      ]
    },
    {
      "cell_type": "markdown",
      "metadata": {
        "id": "dGDGl8-G7y8Y",
        "colab_type": "text"
      },
      "source": [
        "### Distribution\n"
      ]
    },
    {
      "cell_type": "markdown",
      "metadata": {
        "id": "FB0uV-jy76p9",
        "colab_type": "text"
      },
      "source": [
        "![alt text](https://raw.githubusercontent.com/ikh5037/pongo/master/images/Distribution.png)"
      ]
    },
    {
      "cell_type": "markdown",
      "metadata": {
        "id": "_6SOzhrQ76zH",
        "colab_type": "text"
      },
      "source": [
        "#### What is this telling us?"
      ]
    },
    {
      "cell_type": "markdown",
      "metadata": {
        "id": "HBWqsS_g767h",
        "colab_type": "text"
      },
      "source": [
        "This shows the total amount of losing pts scored in each game and how the distribution looked. The winning points would look similar based on the fact that this is just a nice way to view how many points are averagely scored in all these games. It is interesting to see the outliers and see that the losing points graph does include some higher and some much lower points, but given the fact that this is the losing graph you have to realize every winning pts graph like this would be bigger and have a shifted range. "
      ]
    },
    {
      "cell_type": "markdown",
      "metadata": {
        "id": "wQsDThk677Fy",
        "colab_type": "text"
      },
      "source": [
        "### Change over Time\n"
      ]
    },
    {
      "cell_type": "markdown",
      "metadata": {
        "id": "Z1j_YLOA7_OK",
        "colab_type": "text"
      },
      "source": [
        "![alt text](https://raw.githubusercontent.com/ikh5037/pongo/master/images/Change%20Over%20Time.png)"
      ]
    },
    {
      "cell_type": "markdown",
      "metadata": {
        "id": "mpfsmmgi7_Vj",
        "colab_type": "text"
      },
      "source": [
        "#### What is this telling us?"
      ]
    },
    {
      "cell_type": "markdown",
      "metadata": {
        "id": "rYLXoMMO7_di",
        "colab_type": "text"
      },
      "source": [
        "This shows us the winning pts in games over years. I feel like this is very good for trends but nothing else. For example in the early years of college basketball, there is a big rise in amount of points scored than the middle part, and then the trend goes up in the tail part of the line. This is a pretty bad graph, but again, I did not really know what to graph considering there was a lot of variables that would not make sense for a trend over time graph because they are not numerical."
      ]
    },
    {
      "cell_type": "markdown",
      "metadata": {
        "id": "lFwiHoE-7_jZ",
        "colab_type": "text"
      },
      "source": [
        "### Magnitude\n"
      ]
    },
    {
      "cell_type": "markdown",
      "metadata": {
        "id": "ICQFnXj78EbF",
        "colab_type": "text"
      },
      "source": [
        "![alt text](https://raw.githubusercontent.com/ikh5037/pongo/master/images/Magnitude.png)"
      ]
    },
    {
      "cell_type": "markdown",
      "metadata": {
        "id": "QGG7XYG88Eii",
        "colab_type": "text"
      },
      "source": [
        "#### What is this telling us?"
      ]
    },
    {
      "cell_type": "markdown",
      "metadata": {
        "id": "VS7uGa0l8Eos",
        "colab_type": "text"
      },
      "source": [
        "This graph is telling us total win counts for each team. It is hard to decipher who has the most, but you can sort of tell that Duke and Kentucky are 1st and 2nd. Given the fact that the points graph was very decisive, this graph is very interesting. I like this graph because its very visual and has nothing to do with detailed specific data points and gives you the top ten as well as the biggest ones in the top ten up front and easy to read. I think to improve this graph would be easy just by making each circle a different color, maybe a heat map to show the hottest being the most count. "
      ]
    },
    {
      "cell_type": "markdown",
      "metadata": {
        "id": "bEKFxP8R8Evk",
        "colab_type": "text"
      },
      "source": [
        "### Part-to-Whole\n"
      ]
    },
    {
      "cell_type": "markdown",
      "metadata": {
        "id": "WFHlcYKV8E35",
        "colab_type": "text"
      },
      "source": [
        "![alt text](https://raw.githubusercontent.com/ikh5037/pongo/master/images/Part-To-Whole.png)"
      ]
    },
    {
      "cell_type": "markdown",
      "metadata": {
        "id": "PNSd3wlp8UZH",
        "colab_type": "text"
      },
      "source": [
        "#### What is this telling us?"
      ]
    },
    {
      "cell_type": "markdown",
      "metadata": {
        "id": "y9tb_QRA8aqt",
        "colab_type": "text"
      },
      "source": [
        "This graph tells us the order of each species or animal kingdom that the mascots in the dataset are. I wanted to do a bigger parameter (species) but the fact that there was a lot more different species than orders made this a slightly more appealing graph to make and show. I believe this graph is very easy to read, but where it can go wrong is in the bottom right hand corner where the smaller boxes cant hold names. I think that this graph would be as good as the last graph for magnitude, since its basically just squares vs. circles."
      ]
    }
  ]
}