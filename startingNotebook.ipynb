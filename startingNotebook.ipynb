{
  "nbformat": 4,
  "nbformat_minor": 0,
  "metadata": {
    "colab": {
      "name": "startingNotebook.ipynb",
      "provenance": [],
      "authorship_tag": "ABX9TyN4agQAGjsCMD2fwmO+Em+7",
      "include_colab_link": true
    },
    "kernelspec": {
      "name": "python3",
      "display_name": "Python 3"
    }
  },
  "cells": [
    {
      "cell_type": "markdown",
      "metadata": {
        "id": "view-in-github",
        "colab_type": "text"
      },
      "source": [
        "<a href=\"https://colab.research.google.com/github/ikh5037/pongo/blob/master/startingNotebook.ipynb\" target=\"_parent\"><img src=\"https://colab.research.google.com/assets/colab-badge.svg\" alt=\"Open In Colab\"/></a>"
      ]
    },
    {
      "cell_type": "code",
      "metadata": {
        "id": "l4sWNot742tM",
        "colab_type": "code",
        "colab": {
          "base_uri": "https://localhost:8080/",
          "height": 34
        },
        "outputId": "eee87477-d0f2-44a3-d2c1-3a089cc7f237"
      },
      "source": [
        "2+2"
      ],
      "execution_count": 1,
      "outputs": [
        {
          "output_type": "execute_result",
          "data": {
            "text/plain": [
              "4"
            ]
          },
          "metadata": {
            "tags": []
          },
          "execution_count": 1
        }
      ]
    },
    {
      "cell_type": "markdown",
      "metadata": {
        "id": "xGzqcNxH6DeG",
        "colab_type": "text"
      },
      "source": [
        "#abstract"
      ]
    },
    {
      "cell_type": "markdown",
      "metadata": {
        "id": "IplAezuY6FwI",
        "colab_type": "text"
      },
      "source": [
        "somethings in this abstract\n"
      ]
    },
    {
      "cell_type": "markdown",
      "metadata": {
        "id": "U_xFSZPz6Iby",
        "colab_type": "text"
      },
      "source": [
        "#intro\n"
      ]
    },
    {
      "cell_type": "markdown",
      "metadata": {
        "id": "73hkfOT16Kh0",
        "colab_type": "text"
      },
      "source": [
        "aslkdfja;slkdfjasdf\n"
      ]
    },
    {
      "cell_type": "markdown",
      "metadata": {
        "id": "yvAkntyc6Lw0",
        "colab_type": "text"
      },
      "source": [
        "![no image here](https://)\n"
      ]
    }
  ]
}