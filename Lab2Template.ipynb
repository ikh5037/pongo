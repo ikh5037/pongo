{
  "nbformat": 4,
  "nbformat_minor": 0,
  "metadata": {
    "colab": {
      "name": "Lab2Template.ipynb",
      "provenance": []
    },
    "kernelspec": {
      "name": "python3",
      "display_name": "Python 3"
    }
  },
  "cells": [
    {
      "cell_type": "markdown",
      "metadata": {
        "id": "6sOc4Uyr4U-Z",
        "colab_type": "text"
      },
      "source": [
        "## Graph Types"
      ]
    },
    {
      "cell_type": "markdown",
      "metadata": {
        "id": "0zZdVLAd5CYr",
        "colab_type": "text"
      },
      "source": [
        "Creator\n",
        "* Name "
      ]
    },
    {
      "cell_type": "markdown",
      "metadata": {
        "id": "D0e5rgskm4Y_",
        "colab_type": "text"
      },
      "source": [
        ""
      ]
    },
    {
      "cell_type": "markdown",
      "metadata": {
        "id": "g-r6Clq45Hn4",
        "colab_type": "text"
      },
      "source": [
        "### Deviation\n"
      ]
    },
    {
      "cell_type": "markdown",
      "metadata": {
        "id": "2gorxo6E7A0t",
        "colab_type": "text"
      },
      "source": [
        "![alt text](https://raw.githubusercontent.com/dudaspm/SRA268/master/Images/PointsPerYear.png)"
      ]
    },
    {
      "cell_type": "markdown",
      "metadata": {
        "id": "w6bZ_NEi7E3w",
        "colab_type": "text"
      },
      "source": [
        "#### What is this telling us?"
      ]
    },
    {
      "cell_type": "markdown",
      "metadata": {
        "id": "95L-spaC7QHF",
        "colab_type": "text"
      },
      "source": [
        "Lorem ipsum dolor sit amet, consectetur adipiscing elit. Nam iaculis, enim vel accumsan laoreet, mauris eros feugiat quam, sit amet tempor nibh mi id dolor. Fusce faucibus nisi magna, eu rhoncus felis pharetra non. Curabitur metus eros, eleifend sit amet vehicula et, porttitor non arcu. Suspendisse in mauris lacinia, efficitur lacus vel, eleifend est. Nullam id libero eu felis venenatis auctor quis in mi. Praesent lectus justo, vestibulum et mollis nec, elementum non risus. Vestibulum sit amet elit aliquam, ornare est vitae, dictum enim. Aliquam erat volutpat. Etiam rhoncus turpis quam. Etiam at neque vitae sem convallis suscipit ac varius."
      ]
    },
    {
      "cell_type": "markdown",
      "metadata": {
        "id": "YgXyXjmz7cDP",
        "colab_type": "text"
      },
      "source": [
        "### Correlation\n"
      ]
    },
    {
      "cell_type": "markdown",
      "metadata": {
        "id": "SGx15rZq7hvt",
        "colab_type": "text"
      },
      "source": [
        "![alt text](https://raw.githubusercontent.com/dudaspm/SRA268/master/Images/PointsPerYear.png)"
      ]
    },
    {
      "cell_type": "markdown",
      "metadata": {
        "id": "dljjONNi7jmj",
        "colab_type": "text"
      },
      "source": [
        "#### What is this telling us?"
      ]
    },
    {
      "cell_type": "markdown",
      "metadata": {
        "id": "PwZEZrFB7laG",
        "colab_type": "text"
      },
      "source": [
        "Lorem ipsum dolor sit amet, consectetur adipiscing elit. Nam iaculis, enim vel accumsan laoreet, mauris eros feugiat quam, sit amet tempor nibh mi id dolor. Fusce faucibus nisi magna, eu rhoncus felis pharetra non. Curabitur metus eros, eleifend sit amet vehicula et, porttitor non arcu. Suspendisse in mauris lacinia, efficitur lacus vel, eleifend est. Nullam id libero eu felis venenatis auctor quis in mi. Praesent lectus justo, vestibulum et mollis nec, elementum non risus. Vestibulum sit amet elit aliquam, ornare est vitae, dictum enim. Aliquam erat volutpat. Etiam rhoncus turpis quam. Etiam at neque vitae sem convallis suscipit ac varius."
      ]
    },
    {
      "cell_type": "markdown",
      "metadata": {
        "id": "MqUdI-uL7r2s",
        "colab_type": "text"
      },
      "source": [
        "### Ranking\n"
      ]
    },
    {
      "cell_type": "markdown",
      "metadata": {
        "id": "AvlxCOVt7x9F",
        "colab_type": "text"
      },
      "source": [
        "![alt text](https://raw.githubusercontent.com/dudaspm/SRA268/master/Images/PointsPerYear.png)"
      ]
    },
    {
      "cell_type": "markdown",
      "metadata": {
        "id": "lCAYtfza7yTq",
        "colab_type": "text"
      },
      "source": [
        "#### What is this telling us?"
      ]
    },
    {
      "cell_type": "markdown",
      "metadata": {
        "id": "MyuciD277ygU",
        "colab_type": "text"
      },
      "source": [
        "Lorem ipsum dolor sit amet, consectetur adipiscing elit. Nam iaculis, enim vel accumsan laoreet, mauris eros feugiat quam, sit amet tempor nibh mi id dolor. Fusce faucibus nisi magna, eu rhoncus felis pharetra non. Curabitur metus eros, eleifend sit amet vehicula et, porttitor non arcu. Suspendisse in mauris lacinia, efficitur lacus vel, eleifend est. Nullam id libero eu felis venenatis auctor quis in mi. Praesent lectus justo, vestibulum et mollis nec, elementum non risus. Vestibulum sit amet elit aliquam, ornare est vitae, dictum enim. Aliquam erat volutpat. Etiam rhoncus turpis quam. Etiam at neque vitae sem convallis suscipit ac varius."
      ]
    },
    {
      "cell_type": "markdown",
      "metadata": {
        "id": "dGDGl8-G7y8Y",
        "colab_type": "text"
      },
      "source": [
        "### Distribution\n"
      ]
    },
    {
      "cell_type": "markdown",
      "metadata": {
        "id": "FB0uV-jy76p9",
        "colab_type": "text"
      },
      "source": [
        "![alt text](https://raw.githubusercontent.com/dudaspm/SRA268/master/Images/PointsPerYear.png)"
      ]
    },
    {
      "cell_type": "markdown",
      "metadata": {
        "id": "_6SOzhrQ76zH",
        "colab_type": "text"
      },
      "source": [
        "#### What is this telling us?"
      ]
    },
    {
      "cell_type": "markdown",
      "metadata": {
        "id": "HBWqsS_g767h",
        "colab_type": "text"
      },
      "source": [
        "Lorem ipsum dolor sit amet, consectetur adipiscing elit. Nam iaculis, enim vel accumsan laoreet, mauris eros feugiat quam, sit amet tempor nibh mi id dolor. Fusce faucibus nisi magna, eu rhoncus felis pharetra non. Curabitur metus eros, eleifend sit amet vehicula et, porttitor non arcu. Suspendisse in mauris lacinia, efficitur lacus vel, eleifend est. Nullam id libero eu felis venenatis auctor quis in mi. Praesent lectus justo, vestibulum et mollis nec, elementum non risus. Vestibulum sit amet elit aliquam, ornare est vitae, dictum enim. Aliquam erat volutpat. Etiam rhoncus turpis quam. Etiam at neque vitae sem convallis suscipit ac varius."
      ]
    },
    {
      "cell_type": "markdown",
      "metadata": {
        "id": "wQsDThk677Fy",
        "colab_type": "text"
      },
      "source": [
        "### Change over Time\n"
      ]
    },
    {
      "cell_type": "markdown",
      "metadata": {
        "id": "Z1j_YLOA7_OK",
        "colab_type": "text"
      },
      "source": [
        "![alt text](https://raw.githubusercontent.com/dudaspm/SRA268/master/Images/PointsPerYear.png)"
      ]
    },
    {
      "cell_type": "markdown",
      "metadata": {
        "id": "mpfsmmgi7_Vj",
        "colab_type": "text"
      },
      "source": [
        "#### What is this telling us?"
      ]
    },
    {
      "cell_type": "markdown",
      "metadata": {
        "id": "rYLXoMMO7_di",
        "colab_type": "text"
      },
      "source": [
        "Lorem ipsum dolor sit amet, consectetur adipiscing elit. Nam iaculis, enim vel accumsan laoreet, mauris eros feugiat quam, sit amet tempor nibh mi id dolor. Fusce faucibus nisi magna, eu rhoncus felis pharetra non. Curabitur metus eros, eleifend sit amet vehicula et, porttitor non arcu. Suspendisse in mauris lacinia, efficitur lacus vel, eleifend est. Nullam id libero eu felis venenatis auctor quis in mi. Praesent lectus justo, vestibulum et mollis nec, elementum non risus. Vestibulum sit amet elit aliquam, ornare est vitae, dictum enim. Aliquam erat volutpat. Etiam rhoncus turpis quam. Etiam at neque vitae sem convallis suscipit ac varius."
      ]
    },
    {
      "cell_type": "markdown",
      "metadata": {
        "id": "lFwiHoE-7_jZ",
        "colab_type": "text"
      },
      "source": [
        "### Magnitude\n"
      ]
    },
    {
      "cell_type": "markdown",
      "metadata": {
        "id": "ICQFnXj78EbF",
        "colab_type": "text"
      },
      "source": [
        "![alt text](https://raw.githubusercontent.com/dudaspm/SRA268/master/Images/PointsPerYear.png)"
      ]
    },
    {
      "cell_type": "markdown",
      "metadata": {
        "id": "QGG7XYG88Eii",
        "colab_type": "text"
      },
      "source": [
        "#### What is this telling us?"
      ]
    },
    {
      "cell_type": "markdown",
      "metadata": {
        "id": "VS7uGa0l8Eos",
        "colab_type": "text"
      },
      "source": [
        "Lorem ipsum dolor sit amet, consectetur adipiscing elit. Nam iaculis, enim vel accumsan laoreet, mauris eros feugiat quam, sit amet tempor nibh mi id dolor. Fusce faucibus nisi magna, eu rhoncus felis pharetra non. Curabitur metus eros, eleifend sit amet vehicula et, porttitor non arcu. Suspendisse in mauris lacinia, efficitur lacus vel, eleifend est. Nullam id libero eu felis venenatis auctor quis in mi. Praesent lectus justo, vestibulum et mollis nec, elementum non risus. Vestibulum sit amet elit aliquam, ornare est vitae, dictum enim. Aliquam erat volutpat. Etiam rhoncus turpis quam. Etiam at neque vitae sem convallis suscipit ac varius."
      ]
    },
    {
      "cell_type": "markdown",
      "metadata": {
        "id": "bEKFxP8R8Evk",
        "colab_type": "text"
      },
      "source": [
        "### Part-to-Whole\n"
      ]
    },
    {
      "cell_type": "markdown",
      "metadata": {
        "id": "WFHlcYKV8E35",
        "colab_type": "text"
      },
      "source": [
        "![alt text](https://raw.githubusercontent.com/dudaspm/SRA268/master/Images/PointsPerYear.png)"
      ]
    },
    {
      "cell_type": "markdown",
      "metadata": {
        "id": "PNSd3wlp8UZH",
        "colab_type": "text"
      },
      "source": [
        "#### What is this telling us?"
      ]
    },
    {
      "cell_type": "markdown",
      "metadata": {
        "id": "y9tb_QRA8aqt",
        "colab_type": "text"
      },
      "source": [
        "Lorem ipsum dolor sit amet, consectetur adipiscing elit. Nam iaculis, enim vel accumsan laoreet, mauris eros feugiat quam, sit amet tempor nibh mi id dolor. Fusce faucibus nisi magna, eu rhoncus felis pharetra non. Curabitur metus eros, eleifend sit amet vehicula et, porttitor non arcu. Suspendisse in mauris lacinia, efficitur lacus vel, eleifend est. Nullam id libero eu felis venenatis auctor quis in mi. Praesent lectus justo, vestibulum et mollis nec, elementum non risus. Vestibulum sit amet elit aliquam, ornare est vitae, dictum enim. Aliquam erat volutpat. Etiam rhoncus turpis quam. Etiam at neque vitae sem convallis suscipit ac varius."
      ]
    }
  ]
}